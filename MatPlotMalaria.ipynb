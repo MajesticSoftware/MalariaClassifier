{
 "cells": [
  {
   "cell_type": "code",
   "execution_count": 1,
   "metadata": {},
   "outputs": [],
   "source": [
    "import tensorflow as tf\n",
    "import os\n",
    "os.environ['KMP_DUPLICATE_LIB_OK']='True'\n",
    "from tensorflow.keras.models import Sequential\n",
    "from tensorflow.keras.layers import Dense, Conv2D, Flatten, Dropout, MaxPooling2D\n",
    "from tensorflow.keras.preprocessing.image import ImageDataGenerator\n",
    "import matplotlib\n",
    "import os\n",
    "import numpy as np\n",
    "import matplotlib.pyplot as plt"
   ]
  },
  {
   "cell_type": "code",
   "execution_count": 2,
   "metadata": {},
   "outputs": [],
   "source": [
    "model = tf.keras.models.load_model('malariaClasifier2')"
   ]
  },
  {
   "cell_type": "code",
   "execution_count": 3,
   "metadata": {},
   "outputs": [],
   "source": [
    "import numpy as np\n",
    "from tensorflow.keras.preprocessing import image\n",
    "from PIL import Image, ImageFont, ImageDraw"
   ]
  },
  {
   "cell_type": "code",
   "execution_count": 4,
   "metadata": {},
   "outputs": [
    {
     "name": "stdout",
     "output_type": "stream",
     "text": [
      "[[0.]]\n"
     ]
    }
   ],
   "source": [
    "test_image = image.load_img('/Users/jeffreyscruggs/Desktop/A.I._Projects/cell_images/Parasitized/C39P4thinF_original_IMG_20150622_105253_cell_95.png', target_size = (64,64))\n",
    "test_image = image.img_to_array(test_image)\n",
    "test_image = np.expand_dims(test_image, axis = 0)\n",
    "result = model.predict(test_image)\n",
    "print(result)"
   ]
  },
  {
   "cell_type": "code",
   "execution_count": 5,
   "metadata": {},
   "outputs": [
    {
     "name": "stdout",
     "output_type": "stream",
     "text": [
      "0 = Parasitized, 1 = Uninfected\n"
     ]
    }
   ],
   "source": [
    "print(\"0 = Parasitized, 1 = Uninfected\")"
   ]
  },
  {
   "cell_type": "code",
   "execution_count": 6,
   "metadata": {},
   "outputs": [],
   "source": [
    "import cv2\n",
    "import glob\n",
    "import matplotlib\n",
    "import matplotlib.pyplot as plt\n",
    "import matplotlib.image as mpimg\n",
    "#image = mpimg.imread(\"chelsea-the-cat.png\")"
   ]
  },
  {
   "cell_type": "code",
   "execution_count": null,
   "metadata": {},
   "outputs": [],
   "source": [
    "#Set Library Directory\n",
    "path = \"/Users/jeffreyscruggs/Desktop/DataSets/Shuffle/*.*\""
   ]
  },
  {
   "cell_type": "code",
   "execution_count": null,
   "metadata": {
    "scrolled": false
   },
   "outputs": [],
   "source": [
    "#Cycle through directory while predicting!\n",
    "import time\n",
    "for file in glob.glob(path):\n",
    "    print(file)\n",
    "    a = mpimg.imread(file)\n",
    "    test_image = image.load_img(file, target_size = (64,64))\n",
    "    test_image = image.img_to_array(test_image)\n",
    "    test_image = np.expand_dims(test_image, axis = 0)\n",
    "    result = model.predict(test_image)\n",
    "    print(result)\n",
    "    \n",
    "    if result == 0:\n",
    "        print(\"This is a Parasitized Malaria cell.\")\n",
    "        img = Image.open(file)\n",
    "        \n",
    "    \n",
    "        \n",
    "        plt.imshow(a)\n",
    "        plt.text(60, 60, 'Parisitized', bbox=dict(fill=False, edgecolor='red', linewidth=1))\n",
    "        plt.show()\n",
    "        \n",
    "        #Wait a 3 seconds\n",
    "        time.sleep(3)\n",
    "        plt.close()\n",
    "    else:\n",
    "        print(\"This is a Uninfected Malaria cell.\")\n",
    "        img = Image.open(file)\n",
    "        \n",
    "        plt.imshow(a)\n",
    "        plt.text(60, 60, 'Uninfected', bbox=dict(fill=False, edgecolor='blue', linewidth=1))\n",
    "        plt.show()\n",
    "        time.sleep(3)\n",
    "        plt.close()\n",
    "        #Destroy Windows to save memory."
   ]
  },
  {
   "cell_type": "code",
   "execution_count": null,
   "metadata": {},
   "outputs": [],
   "source": []
  },
  {
   "cell_type": "code",
   "execution_count": null,
   "metadata": {},
   "outputs": [],
   "source": []
  },
  {
   "cell_type": "code",
   "execution_count": null,
   "metadata": {},
   "outputs": [],
   "source": []
  }
 ],
 "metadata": {
  "kernelspec": {
   "display_name": "Python 3",
   "language": "python",
   "name": "python3"
  },
  "language_info": {
   "codemirror_mode": {
    "name": "ipython",
    "version": 3
   },
   "file_extension": ".py",
   "mimetype": "text/x-python",
   "name": "python",
   "nbconvert_exporter": "python",
   "pygments_lexer": "ipython3",
   "version": "3.7.9"
  }
 },
 "nbformat": 4,
 "nbformat_minor": 4
}
