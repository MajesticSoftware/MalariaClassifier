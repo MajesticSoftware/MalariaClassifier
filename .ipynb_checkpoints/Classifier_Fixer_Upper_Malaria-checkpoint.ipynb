{
 "cells": [
  {
   "cell_type": "code",
   "execution_count": 1,
   "metadata": {},
   "outputs": [],
   "source": [
    "import os\n",
    "os.environ['KMP_DUPLICATE_LIB_OK']='True'"
   ]
  },
  {
   "cell_type": "code",
   "execution_count": 2,
   "metadata": {
    "scrolled": false
   },
   "outputs": [],
   "source": [
    "import tensorflow as tf"
   ]
  },
  {
   "cell_type": "code",
   "execution_count": 3,
   "metadata": {},
   "outputs": [],
   "source": [
    "from tensorflow.keras.models import Sequential\n",
    "from tensorflow.keras.layers import Dense, Conv2D, Flatten, Dropout, MaxPooling2D\n",
    "from tensorflow.keras.preprocessing.image import ImageDataGenerator\n",
    "\n",
    "import os\n",
    "import numpy as np\n",
    "import matplotlib.pyplot as plt"
   ]
  },
  {
   "cell_type": "code",
   "execution_count": 4,
   "metadata": {},
   "outputs": [],
   "source": [
    "train_dir = '/Users/jeffreyscruggs/Desktop/DataSets/train'\n",
    "validation_dir = '/Users/jeffreyscruggs/Desktop/DataSets/val'"
   ]
  },
  {
   "cell_type": "code",
   "execution_count": 5,
   "metadata": {},
   "outputs": [],
   "source": [
    "train_parasitized_dir = os.path.join(train_dir, 'Parasitized') # directory with our training elephant pictures\n",
    "train_uninfected_dir = os.path.join(train_dir, 'Uninfected') # directory with our training tiger pictures\n",
    "validation_parasitized_dir = os.path.join(validation_dir, 'Parasitized') # directory with our validation elephant pictures\n",
    "validation_uninfected_dir = os.path.join(validation_dir, 'Uninfected') # directory with our validation tiger pictures"
   ]
  },
  {
   "cell_type": "code",
   "execution_count": 6,
   "metadata": {},
   "outputs": [
    {
     "name": "stdout",
     "output_type": "stream",
     "text": [
      "total training parasitized images: 11023\n",
      "total training uninfected images: 11023\n",
      "total validation parasitized images: 2756\n",
      "total validation uninfected images: 2756\n",
      "--\n",
      "Total training images: 22046\n",
      "Total validation images: 5512\n"
     ]
    }
   ],
   "source": [
    "num_parasitized_tr = len(os.listdir(train_parasitized_dir))\n",
    "num_uninfected_tr = len(os.listdir(train_uninfected_dir))\n",
    "num_parasitized_val = len(os.listdir(validation_parasitized_dir))\n",
    "num_uninfected_val = len(os.listdir(validation_uninfected_dir))\n",
    "total_train = num_parasitized_tr + num_uninfected_tr\n",
    "total_val = num_parasitized_val + num_uninfected_val\n",
    "print('total training parasitized images:', num_parasitized_tr)\n",
    "print('total training uninfected images:', num_uninfected_tr)\n",
    "\n",
    "print('total validation parasitized images:', num_parasitized_val)\n",
    "print('total validation uninfected images:', num_uninfected_val)\n",
    "print(\"--\")\n",
    "print(\"Total training images:\", total_train)\n",
    "print(\"Total validation images:\", total_val)"
   ]
  },
  {
   "cell_type": "code",
   "execution_count": 7,
   "metadata": {},
   "outputs": [],
   "source": [
    "batch_size = 128\n",
    "epochs = 5\n",
    "IMG_HEIGHT = 64\n",
    "IMG_WIDTH = 64"
   ]
  },
  {
   "cell_type": "code",
   "execution_count": 8,
   "metadata": {},
   "outputs": [],
   "source": [
    "train_image_generator = ImageDataGenerator(rescale=1./255) # Generator for our training data\n",
    "validation_image_generator = ImageDataGenerator(rescale=1./255) # Generator for our validation data"
   ]
  },
  {
   "cell_type": "code",
   "execution_count": 9,
   "metadata": {},
   "outputs": [
    {
     "name": "stdout",
     "output_type": "stream",
     "text": [
      "Found 22044 images belonging to 2 classes.\n",
      "Found 5512 images belonging to 2 classes.\n"
     ]
    }
   ],
   "source": [
    "train_data_gen = train_image_generator.flow_from_directory(batch_size=batch_size,\n",
    " directory=train_dir,\n",
    " shuffle=True,\n",
    " target_size=(IMG_HEIGHT, IMG_WIDTH),\n",
    " class_mode='binary')\n",
    "val_data_gen = validation_image_generator.flow_from_directory(batch_size=batch_size,\n",
    " directory=validation_dir,\n",
    " target_size=(IMG_HEIGHT, IMG_WIDTH),\n",
    " class_mode='binary')"
   ]
  },
  {
   "cell_type": "code",
   "execution_count": 10,
   "metadata": {},
   "outputs": [],
   "source": [
    "model = Sequential([\n",
    " Conv2D(16, 3, padding='same', activation='relu', input_shape=(IMG_HEIGHT, IMG_WIDTH ,3)),\n",
    " MaxPooling2D(),\n",
    " Conv2D(32, 3, padding='same', activation='relu'),\n",
    " MaxPooling2D(),\n",
    " Conv2D(64, 3, padding='same', activation='relu'),\n",
    " MaxPooling2D(),\n",
    " Flatten(),\n",
    " Dense(512, activation='relu'),\n",
    " Dense(1, activation='sigmoid')\n",
    "])"
   ]
  },
  {
   "cell_type": "code",
   "execution_count": 11,
   "metadata": {},
   "outputs": [],
   "source": [
    "model.compile(optimizer='adam',\n",
    " loss='binary_crossentropy',\n",
    " metrics=['accuracy'])"
   ]
  },
  {
   "cell_type": "code",
   "execution_count": 12,
   "metadata": {},
   "outputs": [
    {
     "name": "stdout",
     "output_type": "stream",
     "text": [
      "Model: \"sequential\"\n",
      "_________________________________________________________________\n",
      "Layer (type)                 Output Shape              Param #   \n",
      "=================================================================\n",
      "conv2d (Conv2D)              (None, 64, 64, 16)        448       \n",
      "_________________________________________________________________\n",
      "max_pooling2d (MaxPooling2D) (None, 32, 32, 16)        0         \n",
      "_________________________________________________________________\n",
      "conv2d_1 (Conv2D)            (None, 32, 32, 32)        4640      \n",
      "_________________________________________________________________\n",
      "max_pooling2d_1 (MaxPooling2 (None, 16, 16, 32)        0         \n",
      "_________________________________________________________________\n",
      "conv2d_2 (Conv2D)            (None, 16, 16, 64)        18496     \n",
      "_________________________________________________________________\n",
      "max_pooling2d_2 (MaxPooling2 (None, 8, 8, 64)          0         \n",
      "_________________________________________________________________\n",
      "flatten (Flatten)            (None, 4096)              0         \n",
      "_________________________________________________________________\n",
      "dense (Dense)                (None, 512)               2097664   \n",
      "_________________________________________________________________\n",
      "dense_1 (Dense)              (None, 1)                 513       \n",
      "=================================================================\n",
      "Total params: 2,121,761\n",
      "Trainable params: 2,121,761\n",
      "Non-trainable params: 0\n",
      "_________________________________________________________________\n"
     ]
    }
   ],
   "source": [
    "model.summary()"
   ]
  },
  {
   "cell_type": "code",
   "execution_count": 13,
   "metadata": {},
   "outputs": [
    {
     "name": "stdout",
     "output_type": "stream",
     "text": [
      "Epoch 1/5\n",
      "172/172 [==============================] - 97s 564ms/step - loss: 0.6540 - accuracy: 0.6058 - val_loss: 0.5219 - val_accuracy: 0.7525\n",
      "Epoch 2/5\n",
      "172/172 [==============================] - 96s 559ms/step - loss: 0.3818 - accuracy: 0.8264 - val_loss: 0.1889 - val_accuracy: 0.9331\n",
      "Epoch 3/5\n",
      "172/172 [==============================] - 97s 566ms/step - loss: 0.1646 - accuracy: 0.9426 - val_loss: 0.1516 - val_accuracy: 0.9477\n",
      "Epoch 4/5\n",
      "172/172 [==============================] - 96s 558ms/step - loss: 0.1358 - accuracy: 0.9545 - val_loss: 0.1385 - val_accuracy: 0.9535\n",
      "Epoch 5/5\n",
      "172/172 [==============================] - 95s 549ms/step - loss: 0.1240 - accuracy: 0.9585 - val_loss: 0.1471 - val_accuracy: 0.9500\n"
     ]
    }
   ],
   "source": [
    "history = model.fit_generator(\n",
    " train_data_gen,\n",
    " steps_per_epoch= total_train // batch_size,\n",
    " epochs=epochs,\n",
    " validation_data= val_data_gen,\n",
    " validation_steps= total_val // batch_size\n",
    ")"
   ]
  },
  {
   "cell_type": "code",
   "execution_count": 14,
   "metadata": {},
   "outputs": [
    {
     "data": {
      "text/plain": [
       "'2.0.0'"
      ]
     },
     "execution_count": 14,
     "metadata": {},
     "output_type": "execute_result"
    }
   ],
   "source": [
    "tf.__version__"
   ]
  },
  {
   "cell_type": "code",
   "execution_count": 17,
   "metadata": {
    "scrolled": true
   },
   "outputs": [
    {
     "name": "stdout",
     "output_type": "stream",
     "text": [
      "INFO:tensorflow:Assets written to: malariaClasifier2/assets\n"
     ]
    }
   ],
   "source": [
    "model.save('malariaClasifier2')"
   ]
  },
  {
   "cell_type": "code",
   "execution_count": 18,
   "metadata": {},
   "outputs": [
    {
     "name": "stdout",
     "output_type": "stream",
     "text": [
      "{'Parasitized': 0, 'Uninfected': 1}\n"
     ]
    }
   ],
   "source": [
    "print(train_data_gen.class_indices)"
   ]
  },
  {
   "cell_type": "code",
   "execution_count": null,
   "metadata": {},
   "outputs": [],
   "source": []
  }
 ],
 "metadata": {
  "kernelspec": {
   "display_name": "Python 3",
   "language": "python",
   "name": "python3"
  },
  "language_info": {
   "codemirror_mode": {
    "name": "ipython",
    "version": 3
   },
   "file_extension": ".py",
   "mimetype": "text/x-python",
   "name": "python",
   "nbconvert_exporter": "python",
   "pygments_lexer": "ipython3",
   "version": "3.7.9"
  }
 },
 "nbformat": 4,
 "nbformat_minor": 4
}
