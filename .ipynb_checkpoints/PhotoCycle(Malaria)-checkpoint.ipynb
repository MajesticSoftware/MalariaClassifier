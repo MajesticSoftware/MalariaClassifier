{
 "cells": [
  {
   "cell_type": "code",
   "execution_count": 1,
   "metadata": {},
   "outputs": [],
   "source": [
    "import tensorflow as tf\n",
    "import os\n",
    "os.environ['KMP_DUPLICATE_LIB_OK']='True'\n",
    "from tensorflow.keras.models import Sequential\n",
    "from tensorflow.keras.layers import Dense, Conv2D, Flatten, Dropout, MaxPooling2D\n",
    "from tensorflow.keras.preprocessing.image import ImageDataGenerator\n",
    "\n",
    "import os\n",
    "import numpy as np\n",
    "import matplotlib.pyplot as plt"
   ]
  },
  {
   "cell_type": "code",
   "execution_count": 2,
   "metadata": {},
   "outputs": [],
   "source": [
    "model = tf.keras.models.load_model('malariaClasifier2')"
   ]
  },
  {
   "cell_type": "code",
   "execution_count": 3,
   "metadata": {},
   "outputs": [],
   "source": [
    "import numpy as np\n",
    "from tensorflow.keras.preprocessing import image\n",
    "from PIL import Image, ImageFont, ImageDraw"
   ]
  },
  {
   "cell_type": "code",
   "execution_count": 4,
   "metadata": {},
   "outputs": [
    {
     "name": "stdout",
     "output_type": "stream",
     "text": [
      "[[0.]]\n"
     ]
    }
   ],
   "source": [
    "test_image = image.load_img('/Users/jeffreyscruggs/Desktop/A.I._Projects/cell_images/Parasitized/C39P4thinF_original_IMG_20150622_105253_cell_95.png', target_size = (64,64))\n",
    "test_image = image.img_to_array(test_image)\n",
    "test_image = np.expand_dims(test_image, axis = 0)\n",
    "result = model.predict(test_image)\n",
    "print(result)"
   ]
  },
  {
   "cell_type": "code",
   "execution_count": 5,
   "metadata": {},
   "outputs": [
    {
     "name": "stdout",
     "output_type": "stream",
     "text": [
      "0 = Parasitized, 1 = Uninfected\n"
     ]
    }
   ],
   "source": [
    "print(\"0 = Parasitized, 1 = Uninfected\")"
   ]
  },
  {
   "cell_type": "code",
   "execution_count": 6,
   "metadata": {},
   "outputs": [],
   "source": [
    "import cv2\n",
    "import glob"
   ]
  },
  {
   "cell_type": "code",
   "execution_count": 7,
   "metadata": {},
   "outputs": [],
   "source": [
    "#Set Library Directory\n",
    "path = \"/Users/jeffreyscruggs/Desktop/DataSets/Shuffle/*.*\""
   ]
  },
  {
   "cell_type": "code",
   "execution_count": 10,
   "metadata": {},
   "outputs": [
    {
     "name": "stdout",
     "output_type": "stream",
     "text": [
      "/Users/jeffreyscruggs/Desktop/DataSets/Shuffle/C39P4thinF_original_IMG_20150622_110352_cell_105.png\n",
      "[[0.]]\n",
      "This is a Parasitized Malaria cell.\n",
      "/Users/jeffreyscruggs/Desktop/DataSets/Shuffle/C2NThinF_IMG_20150604_114815_cell_66.png\n",
      "[[1.]]\n",
      "This is a Uninfected Malaria cell.\n",
      "/Users/jeffreyscruggs/Desktop/DataSets/Shuffle/C3thin_original_IMG_20150608_162835_cell_210.png\n",
      "[[1.]]\n",
      "This is a Uninfected Malaria cell.\n",
      "/Users/jeffreyscruggs/Desktop/DataSets/Shuffle/C4thin_original_IMG_20150608_165620_cell_195.png\n",
      "[[1.]]\n",
      "This is a Uninfected Malaria cell.\n",
      "/Users/jeffreyscruggs/Desktop/DataSets/Shuffle/C39P4thinF_original_IMG_20150622_110352_cell_101.png\n",
      "[[0.]]\n",
      "This is a Parasitized Malaria cell.\n",
      "/Users/jeffreyscruggs/Desktop/DataSets/Shuffle/C4thin_original_IMG_20150608_165620_cell_130.png\n",
      "[[1.]]\n",
      "This is a Uninfected Malaria cell.\n",
      "/Users/jeffreyscruggs/Desktop/DataSets/Shuffle/C39P4thinF_original_IMG_20150622_110115_cell_128.png\n",
      "[[0.]]\n",
      "This is a Parasitized Malaria cell.\n"
     ]
    },
    {
     "ename": "KeyboardInterrupt",
     "evalue": "",
     "output_type": "error",
     "traceback": [
      "\u001b[0;31m---------------------------------------------------------------------------\u001b[0m",
      "\u001b[0;31mKeyboardInterrupt\u001b[0m                         Traceback (most recent call last)",
      "\u001b[0;32m<ipython-input-10-9d3a03bbc923>\u001b[0m in \u001b[0;36m<module>\u001b[0;34m\u001b[0m\n\u001b[1;32m     26\u001b[0m         \u001b[0mk\u001b[0m \u001b[0;34m=\u001b[0m \u001b[0mcv2\u001b[0m\u001b[0;34m.\u001b[0m\u001b[0mwaitKey\u001b[0m\u001b[0;34m(\u001b[0m\u001b[0;36m2000\u001b[0m\u001b[0;34m)\u001b[0m\u001b[0;34m\u001b[0m\u001b[0;34m\u001b[0m\u001b[0m\n\u001b[1;32m     27\u001b[0m         \u001b[0mk\u001b[0m\u001b[0;34m\u001b[0m\u001b[0;34m\u001b[0m\u001b[0m\n\u001b[0;32m---> 28\u001b[0;31m         \u001b[0mtime\u001b[0m\u001b[0;34m.\u001b[0m\u001b[0msleep\u001b[0m\u001b[0;34m(\u001b[0m\u001b[0;36m3\u001b[0m\u001b[0;34m)\u001b[0m\u001b[0;34m\u001b[0m\u001b[0;34m\u001b[0m\u001b[0m\n\u001b[0m\u001b[1;32m     29\u001b[0m         \u001b[0mcv2\u001b[0m\u001b[0;34m.\u001b[0m\u001b[0mdestroyWindow\u001b[0m\u001b[0;34m\u001b[0m\u001b[0;34m\u001b[0m\u001b[0m\n\u001b[1;32m     30\u001b[0m \u001b[0;34m\u001b[0m\u001b[0m\n",
      "\u001b[0;31mKeyboardInterrupt\u001b[0m: "
     ]
    }
   ],
   "source": [
    "#Cycle through directory while predicting!\n",
    "import time\n",
    "for file in glob.glob(path):\n",
    "    print(file)\n",
    "    a = cv2.imread(file)\n",
    "    test_image = image.load_img(file, target_size = (64,64))\n",
    "    test_image = image.img_to_array(test_image)\n",
    "    test_image = np.expand_dims(test_image, axis = 0)\n",
    "    result = model.predict(test_image)\n",
    "    print(result)\n",
    "    \n",
    "    if result == 0:\n",
    "        print(\"This is a Parasitized Malaria cell.\")\n",
    "        img = Image.open(file)\n",
    "        #Drawing Image\n",
    "        draw = ImageDraw.Draw(img)\n",
    "        font = ImageFont.truetype(\"/Users/jeffreyscruggs/Desktop/DataSets/Sketchzone.otf\", 25)\n",
    "    \n",
    "        draw.text((32,32), \"I\", font = font)\n",
    "    \n",
    "        \n",
    "        img.show(a)\n",
    "        \n",
    "        #Wait a 2 seconds, (Each 1000 equals 1 seconds, unit is in milliseconds.)\n",
    "    \n",
    "        k = cv2.waitKey(2000)\n",
    "        k\n",
    "        cv2.destroyWindow\n",
    "        time.sleep(3)\n",
    "        cv2.destroyWindow\n",
    "    \n",
    "    else:\n",
    "        print(\"This is a Uninfected Malaria cell.\")\n",
    "        img = Image.open(file)\n",
    "        #Drawing Image\n",
    "        draw = ImageDraw.Draw(img)\n",
    "        font = ImageFont.truetype(\"/Users/jeffreyscruggs/Desktop/DataSets/Sketchzone.otf\", 25)\n",
    "    \n",
    "        draw.text((32,32), \"U\", font = font)\n",
    "        img.show(a)\n",
    "    \n",
    "        #Wait a 2 seconds, (Each 1000 equals 1 seconds, unit is in milliseconds.)\n",
    "    \n",
    "        k = cv2.waitKey(2000)\n",
    "        k\n",
    "        cv2.destroyWindow\n",
    "        time.sleep(3)\n",
    "        #Destroy Windows to save memory.\n",
    "        cv2.destroyWindow"
   ]
  },
  {
   "cell_type": "code",
   "execution_count": 9,
   "metadata": {},
   "outputs": [],
   "source": [
    "cv2.destroyAllWindows()"
   ]
  },
  {
   "cell_type": "code",
   "execution_count": null,
   "metadata": {},
   "outputs": [],
   "source": []
  }
 ],
 "metadata": {
  "kernelspec": {
   "display_name": "Python 3",
   "language": "python",
   "name": "python3"
  },
  "language_info": {
   "codemirror_mode": {
    "name": "ipython",
    "version": 3
   },
   "file_extension": ".py",
   "mimetype": "text/x-python",
   "name": "python",
   "nbconvert_exporter": "python",
   "pygments_lexer": "ipython3",
   "version": "3.7.9"
  }
 },
 "nbformat": 4,
 "nbformat_minor": 4
}
